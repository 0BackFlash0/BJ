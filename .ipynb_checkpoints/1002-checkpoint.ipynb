{
 "cells": [
  {
   "cell_type": "code",
   "execution_count": 1,
   "id": "639a74e6-0105-4357-aece-0b7149664a0b",
   "metadata": {},
   "outputs": [
    {
     "name": "stdin",
     "output_type": "stream",
     "text": [
      " 3\n",
      " 0 0 13 40 0 37\n"
     ]
    },
    {
     "ename": "NameError",
     "evalue": "name 'short' is not defined",
     "output_type": "error",
     "traceback": [
      "\u001b[1;31m---------------------------------------------------------------------------\u001b[0m",
      "\u001b[1;31mNameError\u001b[0m                                 Traceback (most recent call last)",
      "Input \u001b[1;32mIn [1]\u001b[0m, in \u001b[0;36m<cell line: 39>\u001b[1;34m()\u001b[0m\n\u001b[0;32m     39\u001b[0m \u001b[38;5;28;01mfor\u001b[39;00m _ \u001b[38;5;129;01min\u001b[39;00m \u001b[38;5;28mrange\u001b[39m(case_num):\n\u001b[0;32m     40\u001b[0m     x1, y1, r1, x2, y2, r2 \u001b[38;5;241m=\u001b[39m \u001b[38;5;28mmap\u001b[39m(\u001b[38;5;28mint\u001b[39m, \u001b[38;5;28minput\u001b[39m()\u001b[38;5;241m.\u001b[39msplit(\u001b[38;5;124m\"\u001b[39m\u001b[38;5;124m \u001b[39m\u001b[38;5;124m\"\u001b[39m))\n\u001b[1;32m---> 41\u001b[0m     \u001b[38;5;28mprint\u001b[39m(\u001b[43mcontact_point\u001b[49m\u001b[43m(\u001b[49m\u001b[43mx1\u001b[49m\u001b[43m,\u001b[49m\u001b[43m \u001b[49m\u001b[43my1\u001b[49m\u001b[43m,\u001b[49m\u001b[43m \u001b[49m\u001b[43mr1\u001b[49m\u001b[43m,\u001b[49m\u001b[43m \u001b[49m\u001b[43mx2\u001b[49m\u001b[43m,\u001b[49m\u001b[43m \u001b[49m\u001b[43my2\u001b[49m\u001b[43m,\u001b[49m\u001b[43m \u001b[49m\u001b[43mr2\u001b[49m\u001b[43m)\u001b[49m)\n",
      "Input \u001b[1;32mIn [1]\u001b[0m, in \u001b[0;36mcontact_point\u001b[1;34m(x1, y1, r1, x2, y2, r2)\u001b[0m\n\u001b[0;32m     10\u001b[0m long \u001b[38;5;241m=\u001b[39m \u001b[38;5;28mmax\u001b[39m(triangle)\n\u001b[0;32m     11\u001b[0m short_sum \u001b[38;5;241m=\u001b[39m \u001b[38;5;28msum\u001b[39m(triangle)\u001b[38;5;241m-\u001b[39mlong\n\u001b[1;32m---> 13\u001b[0m \u001b[38;5;28;01mif\u001b[39;00m(long\u001b[38;5;241m<\u001b[39m\u001b[43mshort\u001b[49m):\n\u001b[0;32m     14\u001b[0m     \u001b[38;5;28;01mreturn\u001b[39;00m \u001b[38;5;241m2\u001b[39m\n\u001b[0;32m     15\u001b[0m \u001b[38;5;28;01melif\u001b[39;00m(long\u001b[38;5;241m>\u001b[39mshort):\n",
      "\u001b[1;31mNameError\u001b[0m: name 'short' is not defined"
     ]
    }
   ],
   "source": [
    "import math\n",
    "\n",
    "def contact_point(x1, y1, r1, x2, y2, r2):\n",
    "    distance = math.sqrt(math.pow(x1-x2, 2)+math.pow(y1-y2, 2))\n",
    "    if(distance==0 and r1==r2):\n",
    "        return -1\n",
    "    \n",
    "    #print(distance)\n",
    "    triangle = [r1, r2, distance]\n",
    "    long = max(triangle)\n",
    "    short_sum = sum(triangle)-long\n",
    "    \n",
    "    if(long<short_sum):\n",
    "        return 2\n",
    "    elif(long>short_sum):\n",
    "        return 0\n",
    "    else:\n",
    "        return 1\n",
    "    \n",
    "#     triangle.sort()\n",
    "#     for i in range(0, len(triangle)):\n",
    "#         for j in range(0, len(triangle)-1-i):\n",
    "#             if(triangle[j]>triangle[j+1]):\n",
    "#                 triangle[j], triangle[j+1] = triangle[j+1], triangle[j]\n",
    "\n",
    "#     #print(triangle)\n",
    "        \n",
    "#     if(triangle[2]<triangle[1]+triangle[0]):\n",
    "#         return 2\n",
    "#     elif(triangle[2]>triangle[1]+triangle[0]):\n",
    "#         return 0\n",
    "#     else:\n",
    "#         return 1\n",
    "\n",
    "\n",
    "\n",
    "case_num = int(input())\n",
    "\n",
    "for _ in range(case_num):\n",
    "    x1, y1, r1, x2, y2, r2 = map(int, input().split(\" \"))\n",
    "    print(contact_point(x1, y1, r1, x2, y2, r2))\n",
    "    "
   ]
  },
  {
   "cell_type": "markdown",
   "id": "49a24332-b487-4116-957b-7e62e22a364a",
   "metadata": {},
   "source": [
    "# 터렛\n",
    "\n",
    "x1, y1에서 거리가 r1인 곳 = x2, y2에서 거리가 r2인 곳\n",
    "\n",
    "-> x1, y1이 중심이고 반지름이 r1인 원과\n",
    "x2, y2가 중심이고 반지름이 r2인 원의 접점\n",
    "\n",
    "접점의 개수 -> 있을 수 있는 좌표의 개수\n",
    "\n",
    "접점의 개수\n",
    "\n",
    "r1>=r2라고 했을때\n",
    "1. distance>r1\n",
    "    distance>r1+r2 : 0\n",
    "    distance==r1+r2 : 1\n",
    "    distance<r1+r2 : 2\n",
    "2. distance<r1\n",
    "   r1>distance+r2 : 0\n",
    "   r1==distance+r2 : 1\n",
    "   r1<distance+r2 : 2\n",
    "                             \n",
    "3. distance=r1\n",
    "               \n",
    "4. distance=r2\n",
    "\n",
    "\n",
    "2, 1, 0, 무한대->-1(원이 동일)"
   ]
  }
 ],
 "metadata": {
  "kernelspec": {
   "display_name": "Python 3 (ipykernel)",
   "language": "python",
   "name": "python3"
  },
  "language_info": {
   "codemirror_mode": {
    "name": "ipython",
    "version": 3
   },
   "file_extension": ".py",
   "mimetype": "text/x-python",
   "name": "python",
   "nbconvert_exporter": "python",
   "pygments_lexer": "ipython3",
   "version": "3.9.12"
  }
 },
 "nbformat": 4,
 "nbformat_minor": 5
}
