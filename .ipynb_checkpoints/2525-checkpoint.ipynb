{
 "cells": [
  {
   "cell_type": "code",
   "execution_count": 5,
   "id": "9803334e-7768-424c-bf00-b21f7b930075",
   "metadata": {},
   "outputs": [
    {
     "name": "stdin",
     "output_type": "stream",
     "text": [
      " 14 30\n",
      " 20\n"
     ]
    },
    {
     "ename": "NameError",
     "evalue": "name 'pint' is not defined",
     "output_type": "error",
     "traceback": [
      "\u001b[1;31m---------------------------------------------------------------------------\u001b[0m",
      "\u001b[1;31mNameError\u001b[0m                                 Traceback (most recent call last)",
      "Input \u001b[1;32mIn [5]\u001b[0m, in \u001b[0;36m<cell line: 7>\u001b[1;34m()\u001b[0m\n\u001b[0;32m      4\u001b[0m h \u001b[38;5;241m=\u001b[39m (h\u001b[38;5;241m+\u001b[39m(oven_time\u001b[38;5;241m+\u001b[39mm)\u001b[38;5;241m/\u001b[39m\u001b[38;5;241m/\u001b[39m\u001b[38;5;241m60\u001b[39m)\u001b[38;5;241m%\u001b[39m\u001b[38;5;241m24\u001b[39m\n\u001b[0;32m      5\u001b[0m m \u001b[38;5;241m=\u001b[39m (oven_time\u001b[38;5;241m+\u001b[39mm)\u001b[38;5;241m%\u001b[39m\u001b[38;5;241m60\u001b[39m\n\u001b[1;32m----> 7\u001b[0m \u001b[43mpint\u001b[49m(h, m)\n",
      "\u001b[1;31mNameError\u001b[0m: name 'pint' is not defined"
     ]
    }
   ],
   "source": [
    "h, m = map(int, input().split(\" \"))\n",
    "oven_time = int(input())\n",
    "\n",
    "h = (h+(oven_time+m)//60)%24\n",
    "m = (oven_time+m)%60\n",
    "\n",
    "print(h, m)"
   ]
  }
 ],
 "metadata": {
  "kernelspec": {
   "display_name": "Python 3 (ipykernel)",
   "language": "python",
   "name": "python3"
  },
  "language_info": {
   "codemirror_mode": {
    "name": "ipython",
    "version": 3
   },
   "file_extension": ".py",
   "mimetype": "text/x-python",
   "name": "python",
   "nbconvert_exporter": "python",
   "pygments_lexer": "ipython3",
   "version": "3.9.12"
  }
 },
 "nbformat": 4,
 "nbformat_minor": 5
}
