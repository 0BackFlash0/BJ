{
 "cells": [
  {
   "cell_type": "code",
   "execution_count": null,
   "metadata": {},
   "outputs": [],
   "source": [
    "# 간접 친구수 구하기\n",
    "# A - B, B - C인 친구 구하기\n",
    "\n",
    "0 0 1\n",
    "0 0 1\n",
    "1 1 0\n",
    "\n",
    "\n",
    "# 직접 친구 수 구하기\n",
    "# 각 사람마다 Y의 개수를 구하기"
   ]
  }
 ],
 "metadata": {
  "language_info": {
   "name": "python"
  },
  "orig_nbformat": 4
 },
 "nbformat": 4,
 "nbformat_minor": 2
}
