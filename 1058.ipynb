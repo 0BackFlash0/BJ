{
 "cells": [
  {
   "cell_type": "code",
   "execution_count": null,
   "metadata": {},
   "outputs": [],
   "source": [
    "import numpy\n",
    "\n",
    "# 간접 친구수 구하기\n",
    "# A - B, B - C인 친구 구하기\n",
    "\n",
    "0 0 1\n",
    "0 0 1\n",
    "1 1 0\n",
    "\n",
    "\n",
    "# 직접 친구 수 구하기\n",
    "# 각 사람마다 Y의 개수를 구하기"
   ]
  },
  {
   "cell_type": "code",
   "execution_count": null,
   "metadata": {},
   "outputs": [],
   "source": [
    "len_n = int(input())\n",
    "\n",
    "matrix = [[False] * len_n] * len_n\n",
    "\n",
    "for r in range(len_n):\n",
    "    for c, tf in enumerate(input()):\n",
    "        if(tf==\"Y\"):\n",
    "            matrix[r][c] = True\n",
    "\n",
    "print(matrix)"
   ]
  },
  {
   "cell_type": "code",
   "execution_count": 2,
   "metadata": {},
   "outputs": [
    {
     "ename": "TypeError",
     "evalue": "unsupported operand type(s) for &: 'list' and 'list'",
     "output_type": "error",
     "traceback": [
      "\u001b[1;31m---------------------------------------------------------------------------\u001b[0m",
      "\u001b[1;31mTypeError\u001b[0m                                 Traceback (most recent call last)",
      "\u001b[1;32m~\\AppData\\Local\\Temp\\ipykernel_15920\\3970796235.py\u001b[0m in \u001b[0;36m<module>\u001b[1;34m\u001b[0m\n\u001b[1;32m----> 1\u001b[1;33m \u001b[1;33m[\u001b[0m\u001b[1;36m1\u001b[0m\u001b[1;33m,\u001b[0m \u001b[1;36m0\u001b[0m\u001b[1;33m,\u001b[0m \u001b[1;36m1\u001b[0m\u001b[1;33m,\u001b[0m \u001b[1;36m0\u001b[0m\u001b[1;33m,\u001b[0m \u001b[1;36m1\u001b[0m\u001b[1;33m]\u001b[0m \u001b[1;33m&\u001b[0m \u001b[1;33m[\u001b[0m\u001b[1;36m0\u001b[0m\u001b[1;33m,\u001b[0m \u001b[1;36m1\u001b[0m\u001b[1;33m,\u001b[0m \u001b[1;36m0\u001b[0m\u001b[1;33m,\u001b[0m \u001b[1;36m1\u001b[0m \u001b[1;33m,\u001b[0m\u001b[1;36m1\u001b[0m\u001b[1;33m]\u001b[0m\u001b[1;33m\u001b[0m\u001b[1;33m\u001b[0m\u001b[0m\n\u001b[0m",
      "\u001b[1;31mTypeError\u001b[0m: unsupported operand type(s) for &: 'list' and 'list'"
     ]
    }
   ],
   "source": [
    "[1, 0, 1, 0, 1] & [0, 1, 0, 1 ,1]"
   ]
  },
  {
   "cell_type": "code",
   "execution_count": null,
   "metadata": {},
   "outputs": [],
   "source": [
    "import numpy as np\n",
    "\n",
    "def calc_friend(matrix, r):\n",
    "    friend_col = np.delete(matrix[r], r)\n",
    "\n",
    "    check_matrix = np.delete( np.delete(matrix, r, axis=0), r, axis=1)\n",
    "\n",
    "    friend_matrix = friend_col * check_matrix\n",
    "\n",
    "    second_friend = [sum(row)>0 for row in friend_matrix]\n",
    "\n",
    "    total_friend = friend_col + second_friend\n",
    "\n",
    "    return sum(total_friend)\n",
    "\n",
    "\n",
    "len_n = int(input())\n",
    "\n",
    "matrix = [[(True if tf == \"Y\" else False) for c, tf in enumerate(input())] for _ in range(len_n)]\n",
    "matrix = np.array(matrix)\n",
    "\n",
    "max_friend = 0\n",
    "for r in range(len_n):\n",
    "    \n",
    "    num_friend = calc_friend(matrix, r)\n",
    "    if(num_friend > max_friend):\n",
    "        max_friend = num_friend\n",
    "\n",
    "print(max_friend)"
   ]
  }
 ],
 "metadata": {
  "kernelspec": {
   "display_name": "Python 3.9.13 ('base')",
   "language": "python",
   "name": "python3"
  },
  "language_info": {
   "codemirror_mode": {
    "name": "ipython",
    "version": 3
   },
   "file_extension": ".py",
   "mimetype": "text/x-python",
   "name": "python",
   "nbconvert_exporter": "python",
   "pygments_lexer": "ipython3",
   "version": "3.9.13"
  },
  "orig_nbformat": 4,
  "vscode": {
   "interpreter": {
    "hash": "a077222d77dfe082b8f1dd562ad70e458ac2ab76993a0b248ab0476e32e9e8dd"
   }
  }
 },
 "nbformat": 4,
 "nbformat_minor": 2
}
