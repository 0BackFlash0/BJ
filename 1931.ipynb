{
 "cells": [
  {
   "cell_type": "code",
   "execution_count": null,
   "metadata": {},
   "outputs": [],
   "source": [
    "def room_assign(time_tables):\n",
    "    #저장된 정보 : key : 끝나는 시간 / val : 시작 시간 list (dict형태)\n",
    "    #동적 계획법 - 저장하는 정보 : 1. 끝난 시간 (인덱스) 2. 지금까지 한 회의 수\n",
    "\n",
    "    best_table = [0] * len(time_tables)\n",
    "\n",
    "    for time in range(1, len(time_tables)):\n",
    "        best_table[time] = best_table[time-1]\n",
    "        addition = 0\n",
    "\n",
    "        for start in time_tables[time]:\n",
    "            if(start==time):\n",
    "                addition += 1\n",
    "                continue\n",
    "\n",
    "            if(best_table[time] < best_table[start]+1):\n",
    "                best_table[time] = best_table[start]+1\n",
    "\n",
    "        best_table[time] += addition\n",
    "\n",
    "    # print(best_table)\n",
    "    return best_table[len(time_tables)-1]\n",
    "\n",
    "\n",
    "\n",
    "def preprocessing(input_times, uniques):\n",
    "    unique_dict = { val : idx for idx, val in enumerate(uniques)}\n",
    "    time_tables = [[] for _ in range(len(uniques))]\n",
    "    for i, o in input_times:\n",
    "        time_tables[unique_dict[o]].append(unique_dict[i])\n",
    "\n",
    "    return time_tables\n",
    "\n",
    "\n",
    "\n",
    "n = int(input())\n",
    "input_times = []\n",
    "uniques = []\n",
    "for _ in range(n):\n",
    "    i, o = map(int, input().split())\n",
    "    input_times.append((i, o))\n",
    "\n",
    "    if(i not in uniques):\n",
    "        uniques.append(i)\n",
    "    if(o not in uniques):\n",
    "        uniques.append(o)\n",
    "\n",
    "time_tables = preprocessing(input_times, sorted(uniques))\n",
    "# print(time_tables)\n",
    "\n",
    "print(room_assign(time_tables))"
   ]
  }
 ],
 "metadata": {
  "kernelspec": {
   "display_name": "Python 3.8.2 64-bit",
   "language": "python",
   "name": "python3"
  },
  "language_info": {
   "name": "python",
   "version": "3.8.2"
  },
  "orig_nbformat": 4,
  "vscode": {
   "interpreter": {
    "hash": "31f2aee4e71d21fbe5cf8b01ff0e069b9275f58929596ceb00d14d90e3e16cd6"
   }
  }
 },
 "nbformat": 4,
 "nbformat_minor": 2
}
