{
 "cells": [
  {
   "cell_type": "code",
   "execution_count": 15,
   "metadata": {},
   "outputs": [
    {
     "ename": "KeyboardInterrupt",
     "evalue": "",
     "output_type": "error",
     "traceback": [
      "\u001b[1;31m---------------------------------------------------------------------------\u001b[0m",
      "\u001b[1;31mKeyboardInterrupt\u001b[0m                         Traceback (most recent call last)",
      "Cell \u001b[1;32mIn [15], line 33\u001b[0m\n\u001b[0;32m     29\u001b[0m     \u001b[39mreturn\u001b[39;00m [i \u001b[39mfor\u001b[39;00m i \u001b[39min\u001b[39;00m p_nums \u001b[39mif\u001b[39;00m i\u001b[39m>\u001b[39m\u001b[39m=\u001b[39mstart]\n\u001b[0;32m     32\u001b[0m start_n, end_n \u001b[39m=\u001b[39m \u001b[39mmap\u001b[39m(\u001b[39mint\u001b[39m, \u001b[39minput\u001b[39m()\u001b[39m.\u001b[39msplit())\n\u001b[1;32m---> 33\u001b[0m \u001b[39mprint\u001b[39m(\u001b[39m\"\u001b[39m\u001b[39m\\n\u001b[39;00m\u001b[39m\"\u001b[39m\u001b[39m.\u001b[39mjoin(\u001b[39mlist\u001b[39m(\u001b[39mmap\u001b[39m(\u001b[39mstr\u001b[39m, prime_number(start_n, end_n)))))\n",
      "Cell \u001b[1;32mIn [15], line 25\u001b[0m, in \u001b[0;36mprime_number\u001b[1;34m(start, end)\u001b[0m\n\u001b[0;32m     23\u001b[0m         \u001b[39mif\u001b[39;00m(tmp\u001b[39m<\u001b[39m\u001b[39m=\u001b[39mend \u001b[39mand\u001b[39;00m tmp \u001b[39mnot\u001b[39;00m \u001b[39min\u001b[39;00m next_remove):\n\u001b[0;32m     24\u001b[0m             next_remove\u001b[39m.\u001b[39mappend(tmp)\n\u001b[1;32m---> 25\u001b[0m             nums\u001b[39m.\u001b[39mremove(tmp)\n\u001b[0;32m     27\u001b[0m remove_nums \u001b[39m=\u001b[39m next_remove\n\u001b[0;32m     28\u001b[0m next_remove \u001b[39m=\u001b[39m []\n",
      "\u001b[1;31mKeyboardInterrupt\u001b[0m: "
     ]
    }
   ],
   "source": [
    "def prime_number(start, end):\n",
    "    if(start==1):\n",
    "        start = 2\n",
    "\n",
    "    p_nums = []\n",
    "\n",
    "    nums = [0]*2 + [1]*(end-1)\n",
    "    for i in range(end+1):\n",
    "        val = nums[i]\n",
    "\n",
    "        if(nums[i]==1):\n",
    "            p_nums.append(i)\n",
    "\n",
    "            remove_nums = [i]\n",
    "            next_remove = []\n",
    "            nums[i] = 0\n",
    "            while(len(remove_nums)>0):\n",
    "                while(len(remove_nums)>0):\n",
    "\n",
    "                    remove_num = remove_nums.pop()\n",
    "                    for p in p_nums:\n",
    "                        tmp = p*remove_num\n",
    "                        # print(tmp)\n",
    "                        if(tmp<=end and tmp):\n",
    "                            next_remove.append(tmp)\n",
    "                            nums[tmp] = 0\n",
    "\n",
    "                remove_nums = next_remove\n",
    "                next_remove = []\n",
    "    return [i for i in p_nums if i>=start]\n",
    "\n",
    "\n",
    "start_n, end_n = map(int, input().split())\n",
    "print(\"\\n\".join(list(map(str, prime_number(start_n, end_n)))))"
   ]
  },
  {
   "cell_type": "code",
   "execution_count": null,
   "metadata": {},
   "outputs": [],
   "source": [
    "def prime_number(start, end):\n",
    "    if(start==1):\n",
    "        start = 2\n",
    "\n",
    "    p_nums = []\n",
    "\n",
    "    nums = list(range(2, end+1))\n",
    "    while len(nums)>0:\n",
    "        i = nums[0]\n",
    "        is_prime = True\n",
    "        for p in p_nums:\n",
    "            if(i%p==0):\n",
    "                is_prime = False\n",
    "                break\n",
    "        \n",
    "        if(is_prime):\n",
    "            p_nums.append(i)\n",
    "\n",
    "            remove_nums = [i]\n",
    "            next_remove = []\n",
    "            nums.remove(i)\n",
    "            while(len(remove_nums)>0):\n",
    "                while(len(remove_nums)>0):\n",
    "\n",
    "                    remove_num = remove_nums.pop()\n",
    "                    for p in p_nums:\n",
    "                        tmp = p*remove_num\n",
    "                        # print(tmp)\n",
    "                        if(tmp<=end and tmp not in next_remove):\n",
    "                            next_remove.append(tmp)\n",
    "                            nums.remove(tmp)\n",
    "\n",
    "                remove_nums = next_remove\n",
    "                next_remove = []\n",
    "\n",
    "\n",
    "    return [i for i in p_nums if i>=start]"
   ]
  }
 ],
 "metadata": {
  "kernelspec": {
   "display_name": "Python 3.9.13 ('base')",
   "language": "python",
   "name": "python3"
  },
  "language_info": {
   "codemirror_mode": {
    "name": "ipython",
    "version": 3
   },
   "file_extension": ".py",
   "mimetype": "text/x-python",
   "name": "python",
   "nbconvert_exporter": "python",
   "pygments_lexer": "ipython3",
   "version": "3.9.15"
  },
  "orig_nbformat": 4,
  "vscode": {
   "interpreter": {
    "hash": "ad2bdc8ecc057115af97d19610ffacc2b4e99fae6737bb82f5d7fb13d2f2c186"
   }
  }
 },
 "nbformat": 4,
 "nbformat_minor": 2
}
