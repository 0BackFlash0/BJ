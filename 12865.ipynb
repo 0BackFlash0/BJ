{
 "cells": [
  {
   "cell_type": "code",
   "execution_count": null,
   "metadata": {},
   "outputs": [],
   "source": [
    "# 현재 무게가 n일때의 최대값 저장\n",
    "# 그거보다 작으면 무효\n",
    "# 합들보다 이전 값이 더 크면 그것도 무효\n",
    "# weight-[value] 딕셔너리\n",
    "\n",
    "def bag_capacity(weight_value_dict, max_weight):\n",
    "    \n",
    "    keys = weight_value_dict.keys()\n",
    "    memorize = [[0, {key:0 for key in keys}]]\n",
    "\n",
    "    for i in range(1, max_weight):\n",
    "        tmp_memorize = memorize[i-1]\n",
    "        for key in keys:\n",
    "            if(i-key>=0):\n",
    "                if(memorize[i-key][1][key]>len(weight_value_dict[key])):\n",
    "                    continue\n",
    "                value = memorize[i-key][0] + weight_value_dict[key][memorize[i-key][1][key]]\n",
    "                if(value>tmp_memorize[0]):\n",
    "                    tmp_memorize = [value, memorize[i-key][1].copy()]\n",
    "                    tmp_memorize[1][key] += 1\n",
    "        memorize.append(tmp_memorize)\n",
    "\n",
    "\n",
    "    return memorize[max_weight][0]\n",
    "\n",
    "\n",
    "\n",
    "    \n",
    "n, max_weight = map(int, input().split())\n",
    "weight_value_dict = dict()\n",
    "\n",
    "for i in range(n):\n",
    "    w, v = max(int, input().split())\n",
    "    if(w not in weight_value_dict.keys()):\n",
    "        weight_value_dict[w] = v\n",
    "    else:\n",
    "        idx = 0\n",
    "        while(idx<len(weight_value_dict[w]) and v<weight_value_dict[idx]):\n",
    "            idx += 1\n",
    "        weight_value_dict[w].insert(idx ,v)\n",
    "        \n",
    "\n",
    "print(bag_capacity(weight_value_dict, max_weight))"
   ]
  },
  {
   "cell_type": "markdown",
   "metadata": {},
   "source": []
  }
 ],
 "metadata": {
  "language_info": {
   "name": "python"
  },
  "orig_nbformat": 4
 },
 "nbformat": 4,
 "nbformat_minor": 2
}
