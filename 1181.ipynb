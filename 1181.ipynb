{
 "cells": [
  {
   "cell_type": "code",
   "execution_count": 2,
   "metadata": {},
   "outputs": [
    {
     "ename": "ValueError",
     "evalue": "invalid literal for int() with base 10: '13 but i wont hesitate no more no more it cannot wait im yours'",
     "output_type": "error",
     "traceback": [
      "\u001b[1;31m---------------------------------------------------------------------------\u001b[0m",
      "\u001b[1;31mValueError\u001b[0m                                Traceback (most recent call last)",
      "Cell \u001b[1;32mIn[2], line 7\u001b[0m\n\u001b[0;32m      1\u001b[0m \u001b[39mdef\u001b[39;00m \u001b[39mquick_sort_words\u001b[39m(word_list):\n\u001b[0;32m      2\u001b[0m     \u001b[39m# word_len_list = [len(word) for word in word_list]\u001b[39;00m\n\u001b[0;32m      4\u001b[0m     \u001b[39mreturn\u001b[39;00m word_list\u001b[39m.\u001b[39msorted()\n\u001b[1;32m----> 7\u001b[0m length \u001b[39m=\u001b[39m \u001b[39mint\u001b[39;49m(\u001b[39minput\u001b[39;49m())\n\u001b[0;32m      8\u001b[0m word_list \u001b[39m=\u001b[39m [\u001b[39minput\u001b[39m() \u001b[39mfor\u001b[39;00m _ \u001b[39min\u001b[39;00m \u001b[39mrange\u001b[39m(length)]\n\u001b[0;32m      9\u001b[0m \u001b[39mprint\u001b[39m(quick_sort_words(word_list))\n",
      "\u001b[1;31mValueError\u001b[0m: invalid literal for int() with base 10: '13 but i wont hesitate no more no more it cannot wait im yours'"
     ]
    }
   ],
   "source": [
    "def quick_sort_words(word_list):\n",
    "    # word_len_list = [len(word) for word in word_list]\n",
    "\n",
    "    def compare_word(word1, word2):\n",
    "        if(len(word1)<len(word2)):\n",
    "            return -1\n",
    "        elif(len(word1)>len(word2)):\n",
    "            return 1\n",
    "        else:\n",
    "            if(word1<word2):\n",
    "                return -1\n",
    "            elif(word1>word2):\n",
    "                return 1\n",
    "            else:\n",
    "                return 0\n",
    "\n",
    "\n",
    "length = int(input())\n",
    "word_list = [input() for _ in range(length)]\n",
    "print(quick_sort_words(list(set(word_list))))"
   ]
  },
  {
   "cell_type": "code",
   "execution_count": 1,
   "metadata": {},
   "outputs": [
    {
     "data": {
      "text/plain": [
       "0"
      ]
     },
     "execution_count": 1,
     "metadata": {},
     "output_type": "execute_result"
    }
   ],
   "source": [
    "1//2"
   ]
  },
  {
   "cell_type": "code",
   "execution_count": null,
   "metadata": {},
   "outputs": [],
   "source": []
  }
 ],
 "metadata": {
  "kernelspec": {
   "display_name": "Python 3.10.8 64-bit (microsoft store)",
   "language": "python",
   "name": "python3"
  },
  "language_info": {
   "codemirror_mode": {
    "name": "ipython",
    "version": 3
   },
   "file_extension": ".py",
   "mimetype": "text/x-python",
   "name": "python",
   "nbconvert_exporter": "python",
   "pygments_lexer": "ipython3",
   "version": "3.10.8"
  },
  "orig_nbformat": 4,
  "vscode": {
   "interpreter": {
    "hash": "7b1f2b33e866b0bf2409397e5f58ba9cdf170d3b7f64c8f359c79998e2f88ad4"
   }
  }
 },
 "nbformat": 4,
 "nbformat_minor": 2
}
