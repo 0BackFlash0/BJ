{
 "cells": [
  {
   "cell_type": "code",
   "execution_count": null,
   "metadata": {},
   "outputs": [],
   "source": [
    "import sys\n",
    "input = sys.stdin.readline\n",
    "\n",
    "# 그래프 - list형식\n",
    "# Index -< 노드 라벨\n",
    "# val -> 가중치-다음 노드 index\n",
    "\n",
    "def min_spanning_graph(graph_list):\n",
    "\n",
    "    visited = [False] * len(graph_list)\n",
    "    min_weight = [None] * len(graph_list)\n",
    "\n",
    "    visited[0] = True\n",
    "    min_weight[0] = 0\n",
    "    visit_stack = [0]\n",
    "    #시작\n",
    "\n",
    "    while(visit_stack):\n",
    "\n",
    "        print(visit_stack[-1])\n",
    "        \n",
    "        next_node = 10000\n",
    "        least_weight = 1000001\n",
    "\n",
    "        for weight, next in graph_list[visit_stack[-1]]:\n",
    "            if(not visited[next]):\n",
    "                min_weight[next] = min_weight[next] if min_weight[next] != None and min_weight[next] < weight else weight\n",
    "                if(least_weight > weight):\n",
    "                    next_node = next\n",
    "                    least_weight = weight\n",
    "        \n",
    "        if(next_node==10000):\n",
    "            visit_stack.pop()\n",
    "        else:\n",
    "            visit_stack.append(next_node)\n",
    "            visited[next_node] = True\n",
    "\n",
    "    return sum(min_weight)\n",
    "\n",
    "\n",
    "v, e = map(int, input().split())\n",
    "graph_list = [[] for _ in range(v)]\n",
    "for _ in range(e):\n",
    "    start, end, weight = map(int, input().split())\n",
    "\n",
    "    graph_list[start-1].append((weight, end-1))\n",
    "\n",
    "print(graph_list)\n",
    "print(min_spanning_graph(graph_list))"
   ]
  }
 ],
 "metadata": {
  "kernelspec": {
   "display_name": "Python 3",
   "language": "python",
   "name": "python3"
  },
  "language_info": {
   "name": "python",
   "version": "3.10.9 (tags/v3.10.9:1dd9be6, Dec  6 2022, 20:01:21) [MSC v.1934 64 bit (AMD64)]"
  },
  "orig_nbformat": 4,
  "vscode": {
   "interpreter": {
    "hash": "7b1f2b33e866b0bf2409397e5f58ba9cdf170d3b7f64c8f359c79998e2f88ad4"
   }
  }
 },
 "nbformat": 4,
 "nbformat_minor": 2
}
